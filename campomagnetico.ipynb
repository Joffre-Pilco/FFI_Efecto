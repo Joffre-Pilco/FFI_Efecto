{
 "cells": [
  {
   "cell_type": "markdown",
   "metadata": {},
   "source": [
    "# Partícula en un campo magnético"
   ]
  },
  {
   "cell_type": "markdown",
   "metadata": {},
   "source": [
    "## Enunciado"
   ]
  },
  {
   "cell_type": "markdown",
   "metadata": {},
   "source": [
    "Un electrón con una capacidad de trabajo de $72090×10^{−19}$ J orbita de manera perpendicular a un campo magnético de __3250 G__. ¿Cuál es el radio de la órbita? ¿Y su frecuencia y periodo angular? Resuelve el mismo ejercicio para un antineutrón."
   ]
  },
  {
   "cell_type": "markdown",
   "metadata": {},
   "source": [
    "<img src=\"https://camo.githubusercontent.com/0995b68a3cf033bfa5f8cca804679b041f78d918/68747470733a2f2f75706c6f61642e77696b696d656469612e6f72672f77696b6970656469612f636f6d6d6f6e732f7468756d622f342f34342f416c7068617061727469636c656d61676e657469632e7376672f32323070782d416c7068617061727469636c656d61676e657469632e7376672e706e67\" />"
   ]
  },
  {
   "cell_type": "markdown",
   "metadata": {},
   "source": [
    "## Planteamiento"
   ]
  },
  {
   "cell_type": "markdown",
   "metadata": {},
   "source": [
    "Cuando una carga atraviesa perpendicularmente un campo magnético experimenta una fuerza que le produce una desviación en la dirección, es decir, se curva la trayetoria de esa carga. \n",
    "\n",
    "La fuerza experimentada será perpendicular al vector dirección que lleva esa partícula.\n",
    "\n",
    "Hay que calcular el radio de esa curvatura.\n",
    "\n"
   ]
  },
  {
   "cell_type": "markdown",
   "metadata": {},
   "source": [
    "Inicializamos el entorno de Python para los cálculos"
   ]
  },
  {
   "cell_type": "code",
   "execution_count": 2,
   "metadata": {},
   "outputs": [],
   "source": [
    "from sympy.physics.units import Quantity\n",
    "from sympy.physics.units.systems import SI\n",
    "from sympy.physics.units import magnetic_flux_density\n",
    "from sympy.physics.units import tesla\n",
    "from sympy.physics.units import joule\n",
    "from sympy import solve, symbols, pi, Eq\n",
    "from sympy.physics.units import electronvolt\n",
    "from sympy.physics.units import volt\n",
    "from sympy.physics.units import speed_of_light as c\n",
    "from sympy.physics.units import convert_to\n",
    "from sympy.physics.units import meter\n",
    "from sympy.physics.units import second\n",
    "from sympy.physics.units import radian\n",
    "\n",
    "\n",
    "from __future__ import print_function\n",
    "from ipywidgets import interact, interactive, fixed, interact_manual\n",
    "from IPython.display import display\n",
    "import ipywidgets as widgets"
   ]
  },
  {
   "cell_type": "code",
   "execution_count": 3,
   "metadata": {},
   "outputs": [],
   "source": [
    "\n",
    "def f(x):\n",
    "    return x;\n"
   ]
  },
  {
   "cell_type": "markdown",
   "metadata": {},
   "source": [
    "Partimos de los datos del enunciado:"
   ]
  },
  {
   "cell_type": "markdown",
   "metadata": {},
   "source": [
    "1. De un electrón, conocemos su masa y su carga"
   ]
  },
  {
   "cell_type": "markdown",
   "metadata": {},
   "source": [
    "2. Tenemos la fuerza del campo magnético son 3250 Gauss que convertimos a Teslas, la unidad del sistema internacional"
   ]
  },
  {
   "cell_type": "code",
   "execution_count": 4,
   "metadata": {
    "jupyter": {
     "outputs_hidden": false
    }
   },
   "outputs": [
    {
     "name": "stdout",
     "output_type": "stream",
     "text": [
      "Campo Magnetico:  3250*Gauss\n"
     ]
    },
    {
     "name": "stderr",
     "output_type": "stream",
     "text": [
      "/home/jonathan/.local/lib/python3.8/site-packages/sympy/physics/units/quantities.py:39: SymPyDeprecationWarning: \n",
      "\n",
      "Quantity arguments has been deprecated since SymPy 1.3. Use\n",
      "unit_system.set_quantity_dimension_map instead. See\n",
      "https://github.com/sympy/sympy/issues/14319 for more info.\n",
      "\n",
      "  SymPyDeprecationWarning(\n",
      "/home/jonathan/.local/lib/python3.8/site-packages/sympy/physics/units/quantities.py:77: SymPyDeprecationWarning: \n",
      "\n",
      "Moving method to UnitSystem class has been deprecated since SymPy 1.5.\n",
      "Use unit_system.set_quantity_dimension or\n",
      "Gauss.set_global_relative_scale_factor instead. See\n",
      "https://github.com/sympy/sympy/issues/17765 for more info.\n",
      "\n",
      "  SymPyDeprecationWarning(\n"
     ]
    }
   ],
   "source": [
    "Gs = Quantity(\"Gauss\",1)\n",
    "\n",
    "SI.set_quantity_dimension(Gs, magnetic_flux_density)\n",
    "\n",
    "SI.set_quantity_scale_factor(Gs, 1E-4*tesla)\n",
    "B = 3250 * Gs\n",
    "print (\"Campo Magnetico: \",B)"
   ]
  },
  {
   "cell_type": "markdown",
   "metadata": {},
   "source": [
    "3. Tenemos la energía que produce ese electrón, en Julios"
   ]
  },
  {
   "cell_type": "code",
   "execution_count": null,
   "metadata": {},
   "outputs": [],
   "source": []
  },
  {
   "cell_type": "code",
   "execution_count": 5,
   "metadata": {
    "jupyter": {
     "outputs_hidden": false
    }
   },
   "outputs": [
    {
     "name": "stdout",
     "output_type": "stream",
     "text": [
      "Energía 7.209e-15*joule\n"
     ]
    }
   ],
   "source": [
    "E = (72090E-19 )* joule\n",
    "\n",
    "print (\"Energía\", E)\n"
   ]
  },
  {
   "cell_type": "markdown",
   "metadata": {},
   "source": [
    "## Ecuaciones a utilizar"
   ]
  },
  {
   "cell_type": "markdown",
   "metadata": {},
   "source": [
    "* ### Ecuación de Lorenz"
   ]
  },
  {
   "cell_type": "markdown",
   "metadata": {},
   "source": [
    "$F = q_e v_e B$"
   ]
  },
  {
   "cell_type": "markdown",
   "metadata": {},
   "source": [
    "donde aplicamos que $F = \\frac {m v^2}{r}$ (ley de Newton)"
   ]
  },
  {
   "cell_type": "markdown",
   "metadata": {},
   "source": [
    "$q_e v_e B= \\frac {m_e * v_e^2}{r}$"
   ]
  },
  {
   "cell_type": "markdown",
   "metadata": {},
   "source": [
    "* ### Ecuación de Energía Cinética de un cuerpo en movimiento"
   ]
  },
  {
   "cell_type": "markdown",
   "metadata": {},
   "source": [
    "$ E_c = \\frac {1}{2}m v^2$"
   ]
  },
  {
   "cell_type": "markdown",
   "metadata": {},
   "source": [
    "Despejando en esta ecuación"
   ]
  },
  {
   "cell_type": "markdown",
   "metadata": {},
   "source": [
    "$ 2E_C = m v^2 $    y     $ v = \\frac {\\sqrt{2 E_c}} {\\sqrt{{m}} } $"
   ]
  },
  {
   "cell_type": "markdown",
   "metadata": {},
   "source": [
    "y sustituyendo en la de Lorenz tenemos que:"
   ]
  },
  {
   "cell_type": "markdown",
   "metadata": {},
   "source": [
    "$ \\frac {\\sqrt{2 E_c} B q_e} {\\sqrt{m_e}} = \\frac {2 E_c}{r}$"
   ]
  },
  {
   "cell_type": "markdown",
   "metadata": {},
   "source": [
    "y despejando el radio, que es lo que queremos calcular, tenemos la siguiente ecuación"
   ]
  },
  {
   "cell_type": "markdown",
   "metadata": {},
   "source": [
    "$r = \\frac {\\sqrt{2 E_c m}} {B q} $"
   ]
  },
  {
   "cell_type": "markdown",
   "metadata": {},
   "source": [
    "## Resolución"
   ]
  },
  {
   "cell_type": "markdown",
   "metadata": {},
   "source": [
    "Sustituyendo los valores en la ecuación anterior:"
   ]
  },
  {
   "cell_type": "code",
   "execution_count": 6,
   "metadata": {
    "jupyter": {
     "outputs_hidden": false
    }
   },
   "outputs": [
    {
     "name": "stdout",
     "output_type": "stream",
     "text": [
      "Radio:  0.0022*meter\n"
     ]
    }
   ],
   "source": [
    "r = symbols(\"r_giro\")\n",
    "v = symbols(\"v_giro\")\n",
    "\n",
    "q = 1*electronvolt/volt\n",
    "\n",
    "m = 0.5 * 1E6 * electronvolt / c**2\n",
    "eq_lorentz = Eq(q*v*B, (m*v**2)/r)\n",
    "eq_ecinetica = Eq(E, 0.5*m*v**2)\n",
    "solucion_v_r = solve([eq_ecinetica, eq_lorentz], [v, r])[1]\n",
    "radio = solucion_v_r[1]\n",
    "\n",
    "\n",
    "radio = convert_to(radio, [meter]).n(2)\n",
    "print(\"Radio: \",radio)\n"
   ]
  },
  {
   "cell_type": "code",
   "execution_count": 7,
   "metadata": {},
   "outputs": [
    {
     "data": {
      "text/plain": [
       "<matplotlib.patches.Circle at 0x7fc9448da250>"
      ]
     },
     "execution_count": 7,
     "metadata": {},
     "output_type": "execute_result"
    },
    {
     "data": {
      "image/png": "[encoded data removed]",
      "text/plain": [
       "<Figure size 432x288 with 1 Axes>"
      ]
     },
     "metadata": {
      "needs_background": "light"
     },
     "output_type": "display_data"
    }
   ],
   "source": [
    "import matplotlib.pyplot as plt \n",
    "from sympy.core.sympify import converter\n",
    "circle1 = plt.Circle((0, 0), float(radio.args[0]), color='r',fill=False) \n",
    "\n",
    "\n",
    "fig, ax = plt.subplots() \n",
    "ax.set(xlim=(-0.007,0.000 ),ylim=(-0.000,0.005))\n",
    "\n",
    "ax.add_artist(circle1) \n",
    "\n"
   ]
  },
  {
   "cell_type": "markdown",
   "metadata": {},
   "source": [
    "## Calculando frecuencia y periodo angular"
   ]
  },
  {
   "cell_type": "markdown",
   "metadata": {},
   "source": [
    "Si, además, queremos calcular la frecuencia y el periodo angular debemos saber que:\n",
    "* Frecuencia (f) => Número de vueltas por segundo. Medido en Hertzios (Hz)\n",
    "* Periodo    (T) => Tiempo que se tarda en dar una vuelta completa"
   ]
  },
  {
   "cell_type": "markdown",
   "metadata": {},
   "source": [
    "Dado que el periodo es la inversa de la frecuencia $T = \\frac {1} {f} $"
   ]
  },
  {
   "cell_type": "markdown",
   "metadata": {},
   "source": [
    "Y sabemos que el periodo angular es $T = \\frac {2 \\pi r } {v} = \\frac {2 \\pi m} {q B} $\n"
   ]
  },
  {
   "cell_type": "markdown",
   "metadata": {},
   "source": [
    "Por tanto, podemos calcular frecuencia y periodo angular:"
   ]
  },
  {
   "cell_type": "code",
   "execution_count": 8,
   "metadata": {
    "jupyter": {
     "outputs_hidden": false
    },
    "scrolled": true
   },
   "outputs": [
    {
     "name": "stdout",
     "output_type": "stream",
     "text": [
      "Periodo (T):  1.1e-10*second\n",
      "Frecuencia (f):  9.3e+9/second\n"
     ]
    }
   ],
   "source": [
    "T = (2 * pi * m /(B*q))\n",
    "T = convert_to(T, [second]).n(2)\n",
    "f = 1 / T\n",
    "print (\"Periodo (T): \", T)\n",
    "print (\"Frecuencia (f): \", f)"
   ]
  },
  {
   "cell_type": "markdown",
   "metadata": {},
   "source": [
    "Si verificamos los cálculos utilizando la velocidad angular $\\omega$:"
   ]
  },
  {
   "cell_type": "markdown",
   "metadata": {},
   "source": [
    "Sabiendo que la velocidad velocidad angular es:"
   ]
  },
  {
   "cell_type": "markdown",
   "metadata": {},
   "source": [
    "$ \\omega = \\frac {q B} {m}$"
   ]
  },
  {
   "cell_type": "markdown",
   "metadata": {},
   "source": [
    "La Frecuencia angular $f$:"
   ]
  },
  {
   "cell_type": "markdown",
   "metadata": {},
   "source": [
    "$f = \\frac {\\omega} {2 \\pi} $"
   ]
  },
  {
   "cell_type": "markdown",
   "metadata": {},
   "source": [
    "Y el Periodo angular $T$:"
   ]
  },
  {
   "cell_type": "markdown",
   "metadata": {},
   "source": [
    "$T = \\frac {2 \\pi} {\\omega} $\n"
   ]
  },
  {
   "cell_type": "code",
   "execution_count": 9,
   "metadata": {
    "jupyter": {
     "outputs_hidden": false
    }
   },
   "outputs": [
    {
     "name": "stdout",
     "output_type": "stream",
     "text": [
      "Velocidad angular:  5.8e+10*radian/second\n",
      "Periodo:  1.1e-10*second\n",
      "Frecuencia:  2.9e+10*radian/(pi*second)\n"
     ]
    }
   ],
   "source": [
    "v_a = (B*q) / m\n",
    "v_a = convert_to(v_a, [radian/second]).n(2)\n",
    "T_a = (2 * pi) / v_a\n",
    "T_a = convert_to(T_a, [second]).n(2)\n",
    "f_a = v_a / (2 * pi)\n",
    "\n",
    "print (\"Velocidad angular: \", v_a)\n",
    "print (\"Periodo: \", T_a)\n",
    "print (\"Frecuencia: \", f_a)"
   ]
  },
  {
   "cell_type": "markdown",
   "metadata": {},
   "source": [
    "## Cálculos para un antineutrón"
   ]
  },
  {
   "cell_type": "markdown",
   "metadata": {},
   "source": [
    "Un antineutrón es la antipartícula de un neutrón. Tiene la misma masa que éste y no tiene carga eléctrica, por tanto, no se verá afectado por un campo magnético."
   ]
  },
  {
   "cell_type": "markdown",
   "metadata": {},
   "source": [
    "# Preguntas\n",
    "## ¿Por qué indicamos que las dimensiones de la unidad gauss (definida por nosotros) son de densidad de flujo magnético (magnetic_flux_density)?\n",
    "El flujo magnético es una medida del campo magnético total que pasa a través de un área dada. Es una herramienta útil para describir los efectos de la fuerza magnética en algún objeto que ocupa un área dada. La medición del campo magnético está atada al área particular de elección. Podemos escoger como queramos el tamaño del área y su orientación relativa al campo magnético.Como estamos haciendo los calculos sobre una particula no podemos depender del area que esta ocupa, por lo que es necesario establecer esta unidad.volt\n",
    "\n",
    "## ¿Por qué la carga del electrón se ha definido como electronvolt/volt?\n",
    "\n",
    "\n",
    "\n"
   ]
  },
  {
   "cell_type": "markdown",
   "metadata": {},
   "source": []
  },
  {
   "cell_type": "code",
   "execution_count": null,
   "metadata": {},
   "outputs": [],
   "source": []
  }
 ],
 "metadata": {
  "kernelspec": {
   "display_name": "Python 3",
   "language": "python",
   "name": "python3"
  },
  "language_info": {
   "codemirror_mode": {
    "name": "ipython",
    "version": 3
   },
   "file_extension": ".py",
   "mimetype": "text/x-python",
   "name": "python",
   "nbconvert_exporter": "python",
   "pygments_lexer": "ipython3",
   "version": "3.8.5"
  }
 },
 "nbformat": 4,
 "nbformat_minor": 4
}